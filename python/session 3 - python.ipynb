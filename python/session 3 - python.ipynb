{
 "cells": [
  {
   "cell_type": "code",
   "execution_count": 1,
   "id": "b0f9d3c9",
   "metadata": {},
   "outputs": [
    {
     "data": {
      "text/plain": [
       "\"hello it's 1993\""
      ]
     },
     "execution_count": 1,
     "metadata": {},
     "output_type": "execute_result"
    }
   ],
   "source": [
    "s = 'hello it\\'s 1993'\n",
    "s"
   ]
  },
  {
   "cell_type": "code",
   "execution_count": 2,
   "id": "867b11b5",
   "metadata": {},
   "outputs": [
    {
     "data": {
      "text/plain": [
       "\"heaao it's 99\""
      ]
     },
     "execution_count": 2,
     "metadata": {},
     "output_type": "execute_result"
    }
   ],
   "source": [
    "table = s.maketrans('lmn','abc','1234')\n",
    "table\n",
    "s.translate(table)\n"
   ]
  },
  {
   "cell_type": "code",
   "execution_count": 3,
   "id": "1826e402",
   "metadata": {},
   "outputs": [
    {
     "data": {
      "text/plain": [
       "<function str.maketrans>"
      ]
     },
     "execution_count": 3,
     "metadata": {},
     "output_type": "execute_result"
    }
   ],
   "source": [
    "#shift + tab : to know the docstring of the method\n",
    "s.maketrans"
   ]
  },
  {
   "cell_type": "code",
   "execution_count": 8,
   "id": "adc06fd2",
   "metadata": {},
   "outputs": [
    {
     "data": {
      "text/plain": [
       "{'name': 'Mostafa', 'age': 25}"
      ]
     },
     "execution_count": 8,
     "metadata": {},
     "output_type": "execute_result"
    }
   ],
   "source": [
    "d = {'name':'Mostafa','age':25}\n",
    "d"
   ]
  },
  {
   "cell_type": "code",
   "execution_count": 9,
   "id": "c3025015",
   "metadata": {},
   "outputs": [
    {
     "data": {
      "text/plain": [
       "6078010348081917684"
      ]
     },
     "execution_count": 9,
     "metadata": {},
     "output_type": "execute_result"
    }
   ],
   "source": [
    "hash('name')\n",
    "#Return the hash value for the given object.\n",
    "\n",
    "#Two objects that compare equal must also have the same hash value, but the\n",
    "#reverse is not necessarily true.\n",
    "#Type:      builtin_function_or_method"
   ]
  },
  {
   "cell_type": "code",
   "execution_count": 10,
   "id": "b941d0a6",
   "metadata": {},
   "outputs": [
    {
     "ename": "TypeError",
     "evalue": "unhashable type: 'dict'",
     "output_type": "error",
     "traceback": [
      "\u001b[1;31m---------------------------------------------------------------------------\u001b[0m",
      "\u001b[1;31mTypeError\u001b[0m                                 Traceback (most recent call last)",
      "Cell \u001b[1;32mIn[10], line 1\u001b[0m\n\u001b[1;32m----> 1\u001b[0m \u001b[38;5;28;43mhash\u001b[39;49m\u001b[43m(\u001b[49m\u001b[43md\u001b[49m\u001b[43m)\u001b[49m\n",
      "\u001b[1;31mTypeError\u001b[0m: unhashable type: 'dict'"
     ]
    }
   ],
   "source": [
    "hash(d)\n"
   ]
  },
  {
   "cell_type": "code",
   "execution_count": null,
   "id": "e1665d31",
   "metadata": {},
   "outputs": [],
   "source": []
  },
  {
   "cell_type": "code",
   "execution_count": null,
   "id": "19e9b4aa",
   "metadata": {},
   "outputs": [],
   "source": []
  }
 ],
 "metadata": {
  "kernelspec": {
   "display_name": "Python 3 (ipykernel)",
   "language": "python",
   "name": "python3"
  },
  "language_info": {
   "codemirror_mode": {
    "name": "ipython",
    "version": 3
   },
   "file_extension": ".py",
   "mimetype": "text/x-python",
   "name": "python",
   "nbconvert_exporter": "python",
   "pygments_lexer": "ipython3",
   "version": "3.10.8"
  }
 },
 "nbformat": 4,
 "nbformat_minor": 5
}
